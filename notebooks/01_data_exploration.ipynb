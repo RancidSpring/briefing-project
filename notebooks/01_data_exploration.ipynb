{
 "cells": [
  {
   "cell_type": "code",
   "id": "initial_id",
   "metadata": {
    "collapsed": true
   },
   "source": [
    "import pandas as pd\n",
    "import unicodedata, re\n",
    "import numpy as np\n"
   ],
   "outputs": [],
   "execution_count": null
  },
  {
   "metadata": {},
   "cell_type": "code",
   "source": "data = pd.read_csv('../data/raw/Operace_anonymizovano.csv', delimiter=';')",
   "id": "86664d1ac189c239",
   "outputs": [],
   "execution_count": null
  },
  {
   "metadata": {},
   "cell_type": "code",
   "source": "data.head(5)",
   "id": "76b66c746cf5c798",
   "outputs": [],
   "execution_count": null
  },
  {
   "metadata": {},
   "cell_type": "code",
   "source": "data.iloc[0]",
   "id": "518b8780318fab3e",
   "outputs": [],
   "execution_count": null
  },
  {
   "metadata": {},
   "cell_type": "code",
   "source": [
    "obj_cols = data.select_dtypes(include=\"object\").columns\n",
    "def _maybe_to_numeric(s: pd.Series) -> pd.Series:\n",
    "    frac = s.str.replace(r\"\\s\", \"\", regex=True).str.replace(\",\", \".\", regex=False)\n",
    "    num = pd.to_numeric(frac, errors=\"coerce\")\n",
    "    return num if num.notna().mean() > 0.5 else s\n",
    "data[obj_cols] = data[obj_cols].apply(_maybe_to_numeric)"
   ],
   "id": "b9d98f7c458ace5f",
   "outputs": [],
   "execution_count": null
  },
  {
   "metadata": {},
   "cell_type": "code",
   "source": [
    "ts_columns = [\n",
    "    \"DATUM\",\n",
    "    \"DATUM_CAS_OD\",\n",
    "    \"DATUM_CAS_DO\",\n",
    "    \"DATUM_CAS_PREV\",\n",
    "    \"DATUM_CAS_PREV_ORIGINAL\"\n",
    "]\n",
    "for c in ts_columns:\n",
    "    dt = pd.to_datetime(data[c], errors=\"coerce\")\n",
    "    if dt.notna().sum() > len(data)*0.5:\n",
    "        if dt.dt.tz is None:\n",
    "            dt = dt.dt.tz_localize(\"CET\")\n",
    "        data[c] = dt"
   ],
   "id": "4ff0cb4a1dcce500",
   "outputs": [],
   "execution_count": null
  },
  {
   "metadata": {},
   "cell_type": "code",
   "source": [
    "def slug(s):\n",
    "    s = ''.join(c for c in unicodedata.normalize('NFKD', s) if not unicodedata.combining(c))\n",
    "    s = re.sub(r'[^A-Za-z0-9_]+', '_', s).strip('_')\n",
    "    return s.lower()\n",
    "\n",
    "data.columns = [slug(c) for c in data.columns]"
   ],
   "id": "254eced4411dd942",
   "outputs": [],
   "execution_count": null
  },
  {
   "metadata": {},
   "cell_type": "code",
   "source": [
    "data[\"total_time\"] = data[[\"minut_pick\", \"minut_mezipick\", \"minut_nopick\"]].sum(axis=1, skipna=True)\n",
    "data[\"pick_share\"] = data[\"minut_pick\"] / data[\"total_time\"]\n",
    "data[\"mezipick_share\"] = data[\"minut_mezipick\"] / data[\"total_time\"]\n",
    "data[\"nopick_share\"] = data[\"minut_nopick\"] / data[\"total_time\"]\n",
    "data[\"handle_time_s\"] = (data[\"datum_cas_do\"] - data[\"datum_cas_od\"]).dt.total_seconds()\n"
   ],
   "id": "ccc8c11714552871",
   "outputs": [],
   "execution_count": null
  },
  {
   "metadata": {},
   "cell_type": "code",
   "source": [
    "missingness = (\n",
    "    pd.DataFrame({\n",
    "        \"dtype\": data.dtypes.astype(str),\n",
    "        \"non_null\": data.notna().sum(),\n",
    "        \"nulls\": data.isna().sum(),\n",
    "    })\n",
    "    .assign(null_pct=lambda t: (t[\"nulls\"] / len(data) * 100).round(2))\n",
    "    .sort_values(\"null_pct\", ascending=False)\n",
    ")\n",
    "missingness"
   ],
   "id": "6e176d5dbf15caab",
   "outputs": [],
   "execution_count": null
  },
  {
   "metadata": {},
   "cell_type": "code",
   "source": [
    "# In this section we are looking for suspicious rows based on several rules\n",
    "# We create boolean flags for each rule and then summarize the results\n",
    "\n",
    "flags = pd.DataFrame(index=data.index)\n",
    "quantity_col = \"mnozstvi\"\n",
    "start_col = \"datum_cas_od\"\n",
    "end_col = \"datum_cas_do\"\n",
    "\n",
    "# -------------------- 1) total_time == 0 while quantity > 0 ---------------------------------------\n",
    "if quantity_col:\n",
    "    flags[\"zero_speed_pos_quantity\"] = (data[\"total_time\"].fillna(0).eq(0)) & (data[quantity_col].fillna(0) > 0)\n",
    "else:\n",
    "    flags[\"zero_speed_pos_quantity\"] = False\n",
    "\n",
    "# -------------------- 2) End before start OR negative durations ---------------------------------------\n",
    "flags[\"end_before_start\"] = data[end_col] < data[start_col]\n",
    "flags[\"negative_duration\"] = data[\"handle_time_s\"] < 0\n",
    "\n",
    "\n",
    "flags[\"any_suspicious\"] = flags.any(axis=1)"
   ],
   "id": "2d1d9d7cda477515",
   "outputs": [],
   "execution_count": null
  },
  {
   "metadata": {},
   "cell_type": "code",
   "source": [
    "suspicious_rows = data.loc[flags[\"any_suspicious\"]].copy()\n",
    "cols_preview = [c for c in ['cinnost_id', quantity_col, \"total_time\", \"minut_pick\", \"minut_mezipick\", \"minut_nopick\", start_col, end_col, \"handle_time_s\"]]\n",
    "suspicious_preview = suspicious_rows[cols_preview].join(flags.loc[suspicious_rows.index])\n",
    "summary_counts = flags.sum().sort_values(ascending=False)"
   ],
   "id": "1bb05068fc37015e",
   "outputs": [],
   "execution_count": null
  },
  {
   "metadata": {},
   "cell_type": "code",
   "source": [
    "print(\"-------- Missingness (top 5 by null %) --------\")\n",
    "display(missingness.loc[[\"total_time\", \"minut_pick\", \"minut_mezipick\", \"minut_nopick\"]])\n",
    "\n",
    "print(\"\\n-------- Suspicious flags counts --------\")\n",
    "print(summary_counts)\n",
    "\n",
    "print(\"\\n-------- Suspicious rows (preview) --------\")\n",
    "display(suspicious_preview.head(5))"
   ],
   "id": "2d502448c0a6719e",
   "outputs": [],
   "execution_count": null
  },
  {
   "metadata": {},
   "cell_type": "code",
   "source": [
    "cleaned = data[~flags[\"any_suspicious\"]].copy()\n",
    "print(f\"Original rows: {len(data)}, cleaned rows: {len(cleaned)}\")"
   ],
   "id": "d32d88408357f442",
   "outputs": [],
   "execution_count": null
  },
  {
   "metadata": {},
   "cell_type": "markdown",
   "source": "# Outliers",
   "id": "67a9ae855b224005"
  },
  {
   "metadata": {},
   "cell_type": "markdown",
   "source": "## Distribution and tails",
   "id": "660c08628afccd2a"
  },
  {
   "metadata": {},
   "cell_type": "code",
   "source": [
    "import plotly.express as px\n",
    "fig = px.histogram(data, x=\"total_time\", nbins=100, title=\"Distribution of total_time\")\n",
    "fig.update_layout(bargap=0.1)\n",
    "fig.add_vline(x=data[\"total_time\"].quantile(0.95), line_dash\n",
    "=\"dash\", line_color=\"green\", annotation_text=\"95th percentile\", annotation_position=\"top left\")\n",
    "fig.add_vline(x=data[\"total_time\"].quantile(0.99), line_dash=\"dash\", line_color=\"red\", annotation_text=\"99th percentile\", annotation_position=\"top left\")\n",
    "fig.show()\n"
   ],
   "id": "fbf26a8be395cc93",
   "outputs": [],
   "execution_count": null
  },
  {
   "metadata": {},
   "cell_type": "code",
   "source": [
    "s = cleaned[\"total_time\"].dropna().astype(float)\n",
    "q1, q3 = s.quantile([0.25, 0.75])\n",
    "p95, p99 = s.quantile([0.95, 0.99])\n",
    "iqr = max(q3 - q1, 1e-12)\n",
    "tail_gap = max(p99 - p95, 1e-12)\n",
    "\n",
    "print(f\"total_time stats (cleaned data):\")\n",
    "print(f\"  Count: {len(s)}\")\n",
    "print(f\"  Mean: {s.mean():.2f}, Std: {s.std():.2f}\")\n",
    "print(f\"  Min: {s.min():.2f}, Max: {s.max():.2f}\")\n",
    "print(f\"  25th percentile (Q1): {q1:.2f}\")\n",
    "print(f\"  75th percentile (Q3): {q3:.2f}\")\n",
    "print(f\"  IQR: {iqr:.2f}\")\n",
    "print(f\"  95th percentile: {p95:.2f}\")\n",
    "print(f\"  99th percentile: {p99:.2f}\")\n",
    "print(f\"  Tail gap (P99 - P95): {tail_gap:.2f}\")"
   ],
   "id": "292e540ec8890b1c",
   "outputs": [],
   "execution_count": null
  },
  {
   "metadata": {},
   "cell_type": "markdown",
   "source": "### ICQ",
   "id": "dc5bcd5572b05a9"
  },
  {
   "metadata": {},
   "cell_type": "code",
   "source": [
    "IQR_K  = 3.0\n",
    "\n",
    "thr_iqr_work  = q3  + IQR_K  * iqr\n",
    "thr_iqr_raw  = float(thr_iqr_work)\n",
    "\n",
    "mask_rule = cleaned[\"total_time\"] > thr_iqr_work\n",
    "print(f\"IQR fence (raw)       : {thr_iqr_raw:.3f}\")"
   ],
   "id": "4cc73503da63a89e",
   "outputs": [],
   "execution_count": null
  },
  {
   "metadata": {},
   "cell_type": "markdown",
   "source": "### Z-score method",
   "id": "adab88b5582a2b59"
  },
  {
   "metadata": {},
   "cell_type": "code",
   "source": [
    "Z = 3\n",
    "med = float(np.median(s))\n",
    "mad = float(np.median(np.abs(s - med))) or 1e-12\n",
    "zs = 0.6745 * (s - med) / mad\n",
    "\n",
    "mask_z = pd.Series(False, index=cleaned.index)\n",
    "mask_z.loc[s.index] = zs > Z\n",
    "\n",
    "thr_z_work = med + (Z / 0.6745) * mad\n",
    "thr_z_raw  = float(thr_z_work)"
   ],
   "id": "e9adf44222365b5f",
   "outputs": [],
   "execution_count": null
  },
  {
   "metadata": {},
   "cell_type": "code",
   "source": [
    "cleaned[\"outlier_rule\"] = mask_rule\n",
    "cleaned[\"outlier_z\"] = mask_z"
   ],
   "id": "41e33591bb0c4b1b",
   "outputs": [],
   "execution_count": null
  },
  {
   "metadata": {},
   "cell_type": "code",
   "source": [
    "import plotly.express as px\n",
    "import plotly.graph_objects as go\n",
    "import math\n",
    "\n",
    "s_all = cleaned[\"total_time\"].astype(float)\n",
    "fig = go.Figure()\n",
    "fig.add_trace(go.Histogram(x=s_all, nbinsx=80, name=\"total_time\", opacity=0.85))\n",
    "\n",
    "for name, thr in [(\"IQR\", thr_iqr_raw), (f\"Robust Z={Z}\", thr_z_raw)]:\n",
    "    fig.add_trace(go.Scatter(\n",
    "        x=[thr, thr],\n",
    "        y=[0, max(1, math.ceil(len(s_all) / 10))],\n",
    "        mode=\"lines\",\n",
    "        name=name,\n",
    "        line=dict(width=2, dash=\"dash\")\n",
    "    ))\n",
    "\n",
    "fig.update_layout(\n",
    "    title=\"Distribution of total_time with outlier thresholds\",\n",
    "    xaxis_title=\"total_time (minutes)\",\n",
    "    yaxis_title=\"count\",\n",
    "    barmode=\"overlay\",\n",
    "    template=\"plotly_white\"\n",
    ")\n",
    "fig.show()"
   ],
   "id": "e811e8d15e7d5d27",
   "outputs": [],
   "execution_count": null
  },
  {
   "metadata": {},
   "cell_type": "code",
   "source": [
    "# 1) Zoomed histogram (0–12 min)\n",
    "thr_rule = thr_iqr_raw\n",
    "thr_z    = thr_z_raw\n",
    "\n",
    "fig1 = go.Figure()\n",
    "fig1.add_trace(go.Histogram(x=s, nbinsx=120, xbins=dict(start=0,end=12,size=0.1), name=\"total_time\", opacity=0.85))\n",
    "for name, thr in [(\"IQR\", thr_rule), (f\"Robust Z=3\", thr_z)]:\n",
    "    fig1.add_trace(go.Scatter(x=[thr, thr], y=[0, s.size/20], mode=\"lines\", name=name, line=dict(width=2, dash=\"dash\")))\n",
    "fig1.update_layout(title=\"total_time (0–12 min zoom)\", xaxis_title=\"minutes\", yaxis_title=\"count\", template=\"plotly_white\")\n",
    "\n",
    "# 2) Same histogram with log-y to expose the tail\n",
    "fig2 = go.Figure()\n",
    "fig2.add_trace(go.Histogram(x=s, nbinsx=100, name=\"total_time\", opacity=0.85))\n",
    "for name, thr in [(\"IQR\", thr_rule), (f\"Robust Z=3\", thr_z)]:\n",
    "    fig2.add_trace(go.Scatter(x=[thr, thr], y=[0, s.size/20], mode=\"lines\", name=name, line=dict(width=2, dash=\"dash\")))\n",
    "fig2.update_layout(title=\"total_time (log-y)\", xaxis_title=\"minutes\", yaxis_title=\"count\", template=\"plotly_white\")\n",
    "fig2.update_yaxes(type=\"log\")\n",
    "\n",
    "# 3) ECDF (percentile view)\n",
    "\"\"\"\n",
    "for any x on the x-axis, the y-value is the fraction of rows with total_time ≤ x\n",
    "\"\"\"\n",
    "x = np.sort(s.values)\n",
    "y = np.arange(1, len(x)+1) / len(x)\n",
    "fig3 = go.Figure()\n",
    "fig3.add_trace(go.Scatter(x=x, y=y, mode=\"lines\", name=\"ECDF\"))\n",
    "for name, thr in [(\"IQR\", thr_rule), (f\"Robust Z=3\", thr_z)]:\n",
    "    fig3.add_trace(go.Scatter(x=[thr, thr], y=[0,1], mode=\"lines\", name=name, line=dict(width=2, dash=\"dash\")))\n",
    "fig3.update_layout(title=\"ECDF of total_time\", xaxis_title=\"minutes\", yaxis_title=\"cumulative fraction\", template=\"plotly_white\")\n",
    "\n",
    "fig1.show(); fig2.show(); fig3.show()"
   ],
   "id": "14e6de1905a2ad96",
   "outputs": [],
   "execution_count": null
  },
  {
   "metadata": {},
   "cell_type": "code",
   "source": [
    "target_data = cleaned[~(cleaned[\"outlier_z\"])].copy()\n",
    "target_data.to_parquet(\"../data/interim/cleaned_total_time.parquet\", index=False)"
   ],
   "id": "43187d7cca1632ee",
   "outputs": [],
   "execution_count": null
  }
 ],
 "metadata": {
  "kernelspec": {
   "display_name": "Python 3",
   "language": "python",
   "name": "python3"
  },
  "language_info": {
   "codemirror_mode": {
    "name": "ipython",
    "version": 2
   },
   "file_extension": ".py",
   "mimetype": "text/x-python",
   "name": "python",
   "nbconvert_exporter": "python",
   "pygments_lexer": "ipython2",
   "version": "2.7.6"
  }
 },
 "nbformat": 4,
 "nbformat_minor": 5
}
